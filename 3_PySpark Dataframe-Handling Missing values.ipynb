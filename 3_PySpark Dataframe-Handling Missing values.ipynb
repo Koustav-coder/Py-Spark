{
 "cells": [
  {
   "cell_type": "markdown",
   "id": "b2d734ee",
   "metadata": {},
   "source": [
    "### PySpark Handling Missing Values\n",
    " - Dropping Cols\n",
    " - Dropping Rows\n",
    " - Various Parameter in Dropping functionalities\n",
    " - Handling Missing Values by Mean, Median and Mode  "
   ]
  },
  {
   "cell_type": "code",
   "execution_count": 1,
   "id": "ee4a0a41",
   "metadata": {},
   "outputs": [],
   "source": [
    "from pyspark.sql import SparkSession"
   ]
  },
  {
   "cell_type": "code",
   "execution_count": 2,
   "id": "ca73021b",
   "metadata": {},
   "outputs": [],
   "source": [
    "spark=SparkSession.builder.appName('PracDF').getOrCreate()"
   ]
  },
  {
   "cell_type": "code",
   "execution_count": 3,
   "id": "61e8f2b6",
   "metadata": {},
   "outputs": [],
   "source": [
    "df_pyspark=spark.read.option('header','true').csv('3_DF.csv',inferSchema=True)"
   ]
  },
  {
   "cell_type": "code",
   "execution_count": 4,
   "id": "0dae70d7",
   "metadata": {},
   "outputs": [
    {
     "data": {
      "text/plain": [
       "DataFrame[Name: string, CGPA: double, Experience: int, Salary: int]"
      ]
     },
     "execution_count": 4,
     "metadata": {},
     "output_type": "execute_result"
    }
   ],
   "source": [
    "df_pyspark"
   ]
  },
  {
   "cell_type": "code",
   "execution_count": 5,
   "id": "bb01d4c8",
   "metadata": {},
   "outputs": [
    {
     "name": "stdout",
     "output_type": "stream",
     "text": [
      "+---------+----+----------+------+\n",
      "|     Name|CGPA|Experience|Salary|\n",
      "+---------+----+----------+------+\n",
      "|  Koustav|9.03|         2| 50000|\n",
      "|  Bishyan|9.16|         1| 55000|\n",
      "|Dwaipayan|8.73|         3| 45000|\n",
      "|   Mainak|8.98|         4| 51000|\n",
      "|     null|4.56|        10| 62000|\n",
      "|        X|null|         3|  null|\n",
      "|     null| 4.0|      null|  null|\n",
      "+---------+----+----------+------+\n",
      "\n"
     ]
    }
   ],
   "source": [
    "df_pyspark.show()\n"
   ]
  },
  {
   "cell_type": "code",
   "execution_count": 6,
   "id": "edf29d06",
   "metadata": {},
   "outputs": [
    {
     "name": "stdout",
     "output_type": "stream",
     "text": [
      "+---------+----+----------+------+\n",
      "|     Name|CGPA|Experience|Salary|\n",
      "+---------+----+----------+------+\n",
      "|  Koustav|9.03|         2| 50000|\n",
      "|  Bishyan|9.16|         1| 55000|\n",
      "|Dwaipayan|8.73|         3| 45000|\n",
      "|   Mainak|8.98|         4| 51000|\n",
      "+---------+----+----------+------+\n",
      "\n"
     ]
    }
   ],
   "source": [
    "df_pyspark.na.drop().show()\n"
   ]
  },
  {
   "cell_type": "code",
   "execution_count": 7,
   "id": "759a403f",
   "metadata": {},
   "outputs": [
    {
     "name": "stdout",
     "output_type": "stream",
     "text": [
      "+---------+----+----------+------+\n",
      "|     Name|CGPA|Experience|Salary|\n",
      "+---------+----+----------+------+\n",
      "|  Koustav|9.03|         2| 50000|\n",
      "|  Bishyan|9.16|         1| 55000|\n",
      "|Dwaipayan|8.73|         3| 45000|\n",
      "|   Mainak|8.98|         4| 51000|\n",
      "|     null|4.56|        10| 62000|\n",
      "|        X|null|         3|  null|\n",
      "|     null| 4.0|      null|  null|\n",
      "+---------+----+----------+------+\n",
      "\n"
     ]
    }
   ],
   "source": [
    "### any==how\n",
    "df_pyspark.na.drop(how=\"all\").show()"
   ]
  },
  {
   "cell_type": "code",
   "execution_count": 8,
   "id": "c8fbfc6d",
   "metadata": {},
   "outputs": [
    {
     "name": "stdout",
     "output_type": "stream",
     "text": [
      "+---------+----+----------+------+\n",
      "|     Name|CGPA|Experience|Salary|\n",
      "+---------+----+----------+------+\n",
      "|  Koustav|9.03|         2| 50000|\n",
      "|  Bishyan|9.16|         1| 55000|\n",
      "|Dwaipayan|8.73|         3| 45000|\n",
      "|   Mainak|8.98|         4| 51000|\n",
      "+---------+----+----------+------+\n",
      "\n"
     ]
    }
   ],
   "source": [
    "df_pyspark.na.drop(how=\"any\").show()"
   ]
  },
  {
   "cell_type": "code",
   "execution_count": 9,
   "id": "55f70df2",
   "metadata": {},
   "outputs": [
    {
     "name": "stdout",
     "output_type": "stream",
     "text": [
      "+---------+----+----------+------+\n",
      "|     Name|CGPA|Experience|Salary|\n",
      "+---------+----+----------+------+\n",
      "|  Koustav|9.03|         2| 50000|\n",
      "|  Bishyan|9.16|         1| 55000|\n",
      "|Dwaipayan|8.73|         3| 45000|\n",
      "|   Mainak|8.98|         4| 51000|\n",
      "|     null|4.56|        10| 62000|\n",
      "|        X|null|         3|  null|\n",
      "+---------+----+----------+------+\n",
      "\n"
     ]
    }
   ],
   "source": [
    "## threshold\n",
    "df_pyspark.na.drop(how=\"any\",thresh=2).show() ##if more  null values than mentioned then it will be got deleted"
   ]
  },
  {
   "cell_type": "code",
   "execution_count": 10,
   "id": "3a49eca0",
   "metadata": {},
   "outputs": [
    {
     "name": "stdout",
     "output_type": "stream",
     "text": [
      "+---------+----+----------+------+\n",
      "|     Name|CGPA|Experience|Salary|\n",
      "+---------+----+----------+------+\n",
      "|  Koustav|9.03|         2| 50000|\n",
      "|  Bishyan|9.16|         1| 55000|\n",
      "|Dwaipayan|8.73|         3| 45000|\n",
      "|   Mainak|8.98|         4| 51000|\n",
      "|     null|4.56|        10| 62000|\n",
      "|        X|null|         3|  null|\n",
      "+---------+----+----------+------+\n",
      "\n"
     ]
    }
   ],
   "source": [
    "#subset\n",
    "df_pyspark.na.drop(how=\"any\",subset=['Experience']).show()"
   ]
  },
  {
   "cell_type": "code",
   "execution_count": 11,
   "id": "488caa84",
   "metadata": {},
   "outputs": [
    {
     "name": "stdout",
     "output_type": "stream",
     "text": [
      "+---------+----+----------+------+\n",
      "|     Name|CGPA|Experience|Salary|\n",
      "+---------+----+----------+------+\n",
      "|  Koustav|9.03|         2| 50000|\n",
      "|  Bishyan|9.16|         1| 55000|\n",
      "|Dwaipayan|8.73|         3| 45000|\n",
      "|   Mainak|8.98|         4| 51000|\n",
      "|        X|null|         3|  null|\n",
      "+---------+----+----------+------+\n",
      "\n"
     ]
    }
   ],
   "source": [
    "df_pyspark.na.drop(how=\"any\",subset=['Name']).show()"
   ]
  },
  {
   "cell_type": "code",
   "execution_count": 12,
   "id": "678d0fd9",
   "metadata": {},
   "outputs": [
    {
     "name": "stdout",
     "output_type": "stream",
     "text": [
      "+--------------+----+----------+------+\n",
      "|          Name|CGPA|Experience|Salary|\n",
      "+--------------+----+----------+------+\n",
      "|       Koustav|9.03|         2| 50000|\n",
      "|       Bishyan|9.16|         1| 55000|\n",
      "|     Dwaipayan|8.73|         3| 45000|\n",
      "|        Mainak|8.98|         4| 51000|\n",
      "|Missing Values|4.56|        10| 62000|\n",
      "|             X|null|         3|  null|\n",
      "|Missing Values| 4.0|      null|  null|\n",
      "+--------------+----+----------+------+\n",
      "\n"
     ]
    }
   ],
   "source": [
    "## Filling the missing value\n",
    "df_pyspark.na.fill('Missing Values').show()"
   ]
  },
  {
   "cell_type": "code",
   "execution_count": 13,
   "id": "92b1b7ac",
   "metadata": {},
   "outputs": [
    {
     "name": "stdout",
     "output_type": "stream",
     "text": [
      "+---------+----+----------+------+\n",
      "|     Name|CGPA|Experience|Salary|\n",
      "+---------+----+----------+------+\n",
      "|  Koustav|9.03|         2| 50000|\n",
      "|  Bishyan|9.16|         1| 55000|\n",
      "|Dwaipayan|8.73|         3| 45000|\n",
      "|   Mainak|8.98|         4| 51000|\n",
      "|     null|4.56|        10| 62000|\n",
      "|        X|null|         3|  null|\n",
      "|     null| 4.0|      null|  null|\n",
      "+---------+----+----------+------+\n",
      "\n"
     ]
    }
   ],
   "source": [
    "## Filling the missing value\n",
    "df_pyspark.na.fill('Missing Values',['Experience','Salary']).show()"
   ]
  },
  {
   "cell_type": "code",
   "execution_count": 14,
   "id": "2e105d32",
   "metadata": {},
   "outputs": [
    {
     "name": "stdout",
     "output_type": "stream",
     "text": [
      "+---------+----+----------+------+\n",
      "|     Name|CGPA|Experience|Salary|\n",
      "+---------+----+----------+------+\n",
      "|  Koustav|9.03|         2| 50000|\n",
      "|  Bishyan|9.16|         1| 55000|\n",
      "|Dwaipayan|8.73|         3| 45000|\n",
      "|   Mainak|8.98|         4| 51000|\n",
      "|     null|4.56|        10| 62000|\n",
      "|        X|null|         3|  null|\n",
      "|     null| 4.0|      null|  null|\n",
      "+---------+----+----------+------+\n",
      "\n"
     ]
    }
   ],
   "source": [
    "df_pyspark.show()"
   ]
  },
  {
   "cell_type": "code",
   "execution_count": 15,
   "id": "430d8976",
   "metadata": {},
   "outputs": [],
   "source": [
    "from pyspark.ml.feature import Imputer\n",
    "imputer=Imputer(\n",
    "    inputCols=['CGPA','Experience','Salary'],\n",
    "    outputCols=[\"{}_imputed\".format(c) for c in ['CGPA','Experience','Salary']]\n",
    ").setStrategy(\"mean\")"
   ]
  },
  {
   "cell_type": "code",
   "execution_count": 16,
   "id": "5aad0028",
   "metadata": {},
   "outputs": [
    {
     "name": "stdout",
     "output_type": "stream",
     "text": [
      "+---------+----+----------+------+------------+------------------+--------------+\n",
      "|     Name|CGPA|Experience|Salary|CGPA_imputed|Experience_imputed|Salary_imputed|\n",
      "+---------+----+----------+------+------------+------------------+--------------+\n",
      "|  Koustav|9.03|         2| 50000|        9.03|                 2|         50000|\n",
      "|  Bishyan|9.16|         1| 55000|        9.16|                 1|         55000|\n",
      "|Dwaipayan|8.73|         3| 45000|        8.73|                 3|         45000|\n",
      "|   Mainak|8.98|         4| 51000|        8.98|                 4|         51000|\n",
      "|     null|4.56|        10| 62000|        4.56|                10|         62000|\n",
      "|        X|null|         3|  null|        7.41|                 3|         52600|\n",
      "|     null| 4.0|      null|  null|         4.0|                 3|         52600|\n",
      "+---------+----+----------+------+------------+------------------+--------------+\n",
      "\n"
     ]
    }
   ],
   "source": [
    "#add imputation cols to df\n",
    "imputer.fit(df_pyspark).transform(df_pyspark).show()"
   ]
  },
  {
   "cell_type": "code",
   "execution_count": null,
   "id": "fd693c03",
   "metadata": {},
   "outputs": [],
   "source": []
  }
 ],
 "metadata": {
  "kernelspec": {
   "display_name": "Python 3",
   "language": "python",
   "name": "python3"
  },
  "language_info": {
   "codemirror_mode": {
    "name": "ipython",
    "version": 3
   },
   "file_extension": ".py",
   "mimetype": "text/x-python",
   "name": "python",
   "nbconvert_exporter": "python",
   "pygments_lexer": "ipython3",
   "version": "3.8.8"
  }
 },
 "nbformat": 4,
 "nbformat_minor": 5
}

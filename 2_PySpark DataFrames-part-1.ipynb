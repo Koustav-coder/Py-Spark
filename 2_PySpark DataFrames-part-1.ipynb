{
 "cells": [
  {
   "cell_type": "markdown",
   "id": "1e92ae73",
   "metadata": {},
   "source": [
    "#### Topics-\n",
    "       a. PySpark Dataframe\n",
    "       b. Reading the Dataset\n",
    "       c. Checking the Datatypes of the Column(Schema)\n",
    "       d. Selecting Column and Indexing\n",
    "       e. Check Describe option similar to Pandas\n",
    "       f. Adding Columns\n",
    "       g. Dropping Columns\n",
    "       h. Rename column name"
   ]
  },
  {
   "cell_type": "code",
   "execution_count": 1,
   "id": "f8703180",
   "metadata": {},
   "outputs": [],
   "source": [
    "from pyspark.sql import SparkSession"
   ]
  },
  {
   "cell_type": "code",
   "execution_count": 3,
   "id": "540fe155",
   "metadata": {},
   "outputs": [],
   "source": [
    "spark=SparkSession.builder.appName('DataFrame').getOrCreate()"
   ]
  },
  {
   "cell_type": "code",
   "execution_count": 4,
   "id": "71228c13",
   "metadata": {},
   "outputs": [
    {
     "data": {
      "text/html": [
       "\n",
       "            <div>\n",
       "                <p><b>SparkSession - in-memory</b></p>\n",
       "                \n",
       "        <div>\n",
       "            <p><b>SparkContext</b></p>\n",
       "\n",
       "            <p><a href=\"http://DESKTOP-AH7NDR5:4041\">Spark UI</a></p>\n",
       "\n",
       "            <dl>\n",
       "              <dt>Version</dt>\n",
       "                <dd><code>v3.3.0</code></dd>\n",
       "              <dt>Master</dt>\n",
       "                <dd><code>local[*]</code></dd>\n",
       "              <dt>AppName</dt>\n",
       "                <dd><code>DataFrame</code></dd>\n",
       "            </dl>\n",
       "        </div>\n",
       "        \n",
       "            </div>\n",
       "        "
      ],
      "text/plain": [
       "<pyspark.sql.session.SparkSession at 0x20f5c4db190>"
      ]
     },
     "execution_count": 4,
     "metadata": {},
     "output_type": "execute_result"
    }
   ],
   "source": [
    "spark"
   ]
  },
  {
   "cell_type": "code",
   "execution_count": 6,
   "id": "50cbc90a",
   "metadata": {},
   "outputs": [],
   "source": [
    "## read the dataset\n",
    "df_pyspark=spark.read.option('header','true').csv('2_NCGE.csv')"
   ]
  },
  {
   "cell_type": "code",
   "execution_count": 8,
   "id": "68e9166f",
   "metadata": {},
   "outputs": [
    {
     "name": "stdout",
     "output_type": "stream",
     "text": [
      "+---------+----+----------+\n",
      "|     Name|CGPA|Experience|\n",
      "+---------+----+----------+\n",
      "|  Koustav|9.03|         2|\n",
      "|  Bishyan|9.16|         1|\n",
      "|Dwaipayan|8.73|         3|\n",
      "|   Mainak|8.98|         4|\n",
      "+---------+----+----------+\n",
      "\n"
     ]
    }
   ],
   "source": [
    "df_pyspark.show()"
   ]
  },
  {
   "cell_type": "code",
   "execution_count": 9,
   "id": "e7943475",
   "metadata": {},
   "outputs": [
    {
     "name": "stdout",
     "output_type": "stream",
     "text": [
      "root\n",
      " |-- Name: string (nullable = true)\n",
      " |-- CGPA: string (nullable = true)\n",
      " |-- Experience: string (nullable = true)\n",
      "\n"
     ]
    }
   ],
   "source": [
    "### check the schema\n",
    "df_pyspark.printSchema()"
   ]
  },
  {
   "cell_type": "code",
   "execution_count": 10,
   "id": "d4ad12a3",
   "metadata": {},
   "outputs": [],
   "source": [
    "### in the op of prev line I can see that the datatype of CGPA and Experience is string\n",
    "### as it is by default. To correct it need to add inferSchema=True during reading the dataset\n",
    "\n",
    "df_pyspark1=spark.read.option('header','true').csv('2_NCGE.csv',inferSchema=True)\n"
   ]
  },
  {
   "cell_type": "code",
   "execution_count": 11,
   "id": "fb5c2a39",
   "metadata": {},
   "outputs": [
    {
     "name": "stdout",
     "output_type": "stream",
     "text": [
      "root\n",
      " |-- Name: string (nullable = true)\n",
      " |-- CGPA: double (nullable = true)\n",
      " |-- Experience: integer (nullable = true)\n",
      "\n"
     ]
    }
   ],
   "source": [
    "df_pyspark1.printSchema()"
   ]
  },
  {
   "cell_type": "code",
   "execution_count": 12,
   "id": "8801b07c",
   "metadata": {},
   "outputs": [
    {
     "name": "stdout",
     "output_type": "stream",
     "text": [
      "+---------+----+----------+\n",
      "|     Name|CGPA|Experience|\n",
      "+---------+----+----------+\n",
      "|  Koustav|9.03|         2|\n",
      "|  Bishyan|9.16|         1|\n",
      "|Dwaipayan|8.73|         3|\n",
      "|   Mainak|8.98|         4|\n",
      "+---------+----+----------+\n",
      "\n"
     ]
    }
   ],
   "source": [
    "##other way to read dataset\n",
    "df_pyspark1=spark.read.csv('2_NCGE.csv',inferSchema=True)\n",
    "df_pyspark.show()"
   ]
  },
  {
   "cell_type": "code",
   "execution_count": 13,
   "id": "185d87d1",
   "metadata": {},
   "outputs": [
    {
     "data": {
      "text/plain": [
       "pyspark.sql.dataframe.DataFrame"
      ]
     },
     "execution_count": 13,
     "metadata": {},
     "output_type": "execute_result"
    }
   ],
   "source": [
    "## dataframe is also a datastructure\n",
    "type(df_pyspark1)"
   ]
  },
  {
   "cell_type": "code",
   "execution_count": 15,
   "id": "59f22fef",
   "metadata": {},
   "outputs": [
    {
     "data": {
      "text/plain": [
       "['Name', 'CGPA', 'Experience']"
      ]
     },
     "execution_count": 15,
     "metadata": {},
     "output_type": "execute_result"
    }
   ],
   "source": [
    "df_pyspark.columns"
   ]
  },
  {
   "cell_type": "code",
   "execution_count": 29,
   "id": "ab2780c7",
   "metadata": {},
   "outputs": [],
   "source": [
    "df_pyspark1=spark.read.option('header','true').csv('2_NCGE.csv', inferSchema=True)"
   ]
  },
  {
   "cell_type": "code",
   "execution_count": 20,
   "id": "02729760",
   "metadata": {},
   "outputs": [
    {
     "data": {
      "text/plain": [
       "['Name', 'CGPA', 'Experience']"
      ]
     },
     "execution_count": 20,
     "metadata": {},
     "output_type": "execute_result"
    }
   ],
   "source": [
    "## show the name of the cols\n",
    "df_pyspark1.columns"
   ]
  },
  {
   "cell_type": "code",
   "execution_count": 21,
   "id": "d5adf065",
   "metadata": {},
   "outputs": [
    {
     "data": {
      "text/plain": [
       "[Row(Name='Koustav', CGPA='9.03', Experience='2'),\n",
       " Row(Name='Bishyan', CGPA='9.16', Experience='1'),\n",
       " Row(Name='Dwaipayan', CGPA='8.73', Experience='3')]"
      ]
     },
     "execution_count": 21,
     "metadata": {},
     "output_type": "execute_result"
    }
   ],
   "source": [
    "##show top 3 cols\n",
    "df_pyspark.head(3)"
   ]
  },
  {
   "cell_type": "code",
   "execution_count": 22,
   "id": "27ec02b5",
   "metadata": {},
   "outputs": [
    {
     "name": "stdout",
     "output_type": "stream",
     "text": [
      "+---------+----+----------+\n",
      "|     Name|CGPA|Experience|\n",
      "+---------+----+----------+\n",
      "|  Koustav|9.03|         2|\n",
      "|  Bishyan|9.16|         1|\n",
      "|Dwaipayan|8.73|         3|\n",
      "|   Mainak|8.98|         4|\n",
      "+---------+----+----------+\n",
      "\n"
     ]
    }
   ],
   "source": [
    "df_pyspark.show()"
   ]
  },
  {
   "cell_type": "code",
   "execution_count": 23,
   "id": "e48c4ad8",
   "metadata": {},
   "outputs": [
    {
     "name": "stdout",
     "output_type": "stream",
     "text": [
      "+---------+\n",
      "|     Name|\n",
      "+---------+\n",
      "|  Koustav|\n",
      "|  Bishyan|\n",
      "|Dwaipayan|\n",
      "|   Mainak|\n",
      "+---------+\n",
      "\n"
     ]
    }
   ],
   "source": [
    "##Show the Name col only\n",
    "df_pyspark1.select('Name').show()"
   ]
  },
  {
   "cell_type": "code",
   "execution_count": 25,
   "id": "02009ed1",
   "metadata": {},
   "outputs": [
    {
     "data": {
      "text/plain": [
       "DataFrame[Name: string]"
      ]
     },
     "execution_count": 25,
     "metadata": {},
     "output_type": "execute_result"
    }
   ],
   "source": [
    "df_pyspark1.select('Name')"
   ]
  },
  {
   "cell_type": "code",
   "execution_count": 27,
   "id": "a453bf6b",
   "metadata": {},
   "outputs": [
    {
     "data": {
      "text/plain": [
       "pyspark.sql.dataframe.DataFrame"
      ]
     },
     "execution_count": 27,
     "metadata": {},
     "output_type": "execute_result"
    }
   ],
   "source": [
    "type(df_pyspark1.select('Name'))  ## OP dataframe.AppName(DataFrame) here not the padas.DataFRame"
   ]
  },
  {
   "cell_type": "code",
   "execution_count": 30,
   "id": "8d499f2d",
   "metadata": {},
   "outputs": [
    {
     "data": {
      "text/plain": [
       "DataFrame[Name: string, Experience: int]"
      ]
     },
     "execution_count": 30,
     "metadata": {},
     "output_type": "execute_result"
    }
   ],
   "source": [
    "## select multiple cols\n",
    "df_pyspark1.select(['Name','Experience'])"
   ]
  },
  {
   "cell_type": "code",
   "execution_count": 31,
   "id": "540c3013",
   "metadata": {},
   "outputs": [
    {
     "name": "stdout",
     "output_type": "stream",
     "text": [
      "+---------+----------+\n",
      "|     Name|Experience|\n",
      "+---------+----------+\n",
      "|  Koustav|         2|\n",
      "|  Bishyan|         1|\n",
      "|Dwaipayan|         3|\n",
      "|   Mainak|         4|\n",
      "+---------+----------+\n",
      "\n"
     ]
    }
   ],
   "source": [
    "df_pyspark1.select(['Name','Experience']).show()"
   ]
  },
  {
   "cell_type": "code",
   "execution_count": 33,
   "id": "78e855ee",
   "metadata": {},
   "outputs": [
    {
     "data": {
      "text/plain": [
       "Column<'Name'>"
      ]
     },
     "execution_count": 33,
     "metadata": {},
     "output_type": "execute_result"
    }
   ],
   "source": [
    "df_pyspark1['Name']"
   ]
  },
  {
   "cell_type": "code",
   "execution_count": 36,
   "id": "8e422b8c",
   "metadata": {},
   "outputs": [
    {
     "data": {
      "text/plain": [
       "[('Name', 'string'), ('CGPA', 'double'), ('Experience', 'int')]"
      ]
     },
     "execution_count": 36,
     "metadata": {},
     "output_type": "execute_result"
    }
   ],
   "source": [
    "df_pyspark1.dtypes"
   ]
  },
  {
   "cell_type": "code",
   "execution_count": 37,
   "id": "a939cdb2",
   "metadata": {},
   "outputs": [
    {
     "data": {
      "text/plain": [
       "DataFrame[summary: string, Name: string, CGPA: string, Experience: string]"
      ]
     },
     "execution_count": 37,
     "metadata": {},
     "output_type": "execute_result"
    }
   ],
   "source": [
    "df_pyspark1.describe()"
   ]
  },
  {
   "cell_type": "code",
   "execution_count": 38,
   "id": "6ff8c5b3",
   "metadata": {},
   "outputs": [
    {
     "name": "stdout",
     "output_type": "stream",
     "text": [
      "+-------+-------+-------------------+------------------+\n",
      "|summary|   Name|               CGPA|        Experience|\n",
      "+-------+-------+-------------------+------------------+\n",
      "|  count|      4|                  4|                 4|\n",
      "|   mean|   null|              8.975|               2.5|\n",
      "| stddev|   null|0.18009256878986737|1.2909944487358056|\n",
      "|    min|Bishyan|               8.73|                 1|\n",
      "|    max| Mainak|               9.16|                 4|\n",
      "+-------+-------+-------------------+------------------+\n",
      "\n"
     ]
    }
   ],
   "source": [
    "df_pyspark1.describe().show()"
   ]
  },
  {
   "cell_type": "code",
   "execution_count": 41,
   "id": "0b7c4e34",
   "metadata": {},
   "outputs": [],
   "source": [
    "## adding cols in pyspark dataframe\n",
    "df_pyspark1=df_pyspark1.withColumn('Experience after 3 years',df_pyspark1['Experience']+3)"
   ]
  },
  {
   "cell_type": "code",
   "execution_count": 42,
   "id": "38f58943",
   "metadata": {},
   "outputs": [
    {
     "name": "stdout",
     "output_type": "stream",
     "text": [
      "+---------+----+----------+------------------------+\n",
      "|     Name|CGPA|Experience|Experience after 3 years|\n",
      "+---------+----+----------+------------------------+\n",
      "|  Koustav|9.03|         2|                       5|\n",
      "|  Bishyan|9.16|         1|                       4|\n",
      "|Dwaipayan|8.73|         3|                       6|\n",
      "|   Mainak|8.98|         4|                       7|\n",
      "+---------+----+----------+------------------------+\n",
      "\n"
     ]
    }
   ],
   "source": [
    "df_pyspark1.show()"
   ]
  },
  {
   "cell_type": "code",
   "execution_count": 50,
   "id": "7bf5d1c5",
   "metadata": {},
   "outputs": [
    {
     "name": "stdout",
     "output_type": "stream",
     "text": [
      "+---------+----+----------+\n",
      "|     Name|CGPA|Experience|\n",
      "+---------+----+----------+\n",
      "|  Koustav|9.03|         2|\n",
      "|  Bishyan|9.16|         1|\n",
      "|Dwaipayan|8.73|         3|\n",
      "|   Mainak|8.98|         4|\n",
      "+---------+----+----------+\n",
      "\n"
     ]
    }
   ],
   "source": [
    "## Drop the cols\n",
    "df_pyspark1.drop('Experience after 3 years').show()"
   ]
  },
  {
   "cell_type": "code",
   "execution_count": 51,
   "id": "bd92fea2",
   "metadata": {},
   "outputs": [
    {
     "name": "stdout",
     "output_type": "stream",
     "text": [
      "+---------+----+----------+------------------------+\n",
      "|     Name|CGPA|Experience|Experience after 3 years|\n",
      "+---------+----+----------+------------------------+\n",
      "|  Koustav|9.03|         2|                       5|\n",
      "|  Bishyan|9.16|         1|                       4|\n",
      "|Dwaipayan|8.73|         3|                       6|\n",
      "|   Mainak|8.98|         4|                       7|\n",
      "+---------+----+----------+------------------------+\n",
      "\n"
     ]
    }
   ],
   "source": [
    "df_pyspark1.show()"
   ]
  },
  {
   "cell_type": "code",
   "execution_count": 52,
   "id": "b6158d60",
   "metadata": {},
   "outputs": [],
   "source": [
    "df_pyspark1=df_pyspark1.drop('Experience after 3 years')"
   ]
  },
  {
   "cell_type": "code",
   "execution_count": 53,
   "id": "3c6fd392",
   "metadata": {},
   "outputs": [
    {
     "name": "stdout",
     "output_type": "stream",
     "text": [
      "+---------+----+----------+\n",
      "|     Name|CGPA|Experience|\n",
      "+---------+----+----------+\n",
      "|  Koustav|9.03|         2|\n",
      "|  Bishyan|9.16|         1|\n",
      "|Dwaipayan|8.73|         3|\n",
      "|   Mainak|8.98|         4|\n",
      "+---------+----+----------+\n",
      "\n"
     ]
    }
   ],
   "source": [
    "df_pyspark1.show()"
   ]
  },
  {
   "cell_type": "code",
   "execution_count": 56,
   "id": "631c5fd9",
   "metadata": {},
   "outputs": [],
   "source": [
    "### rename the cols\n",
    "df_pyspark1=df_pyspark1.withColumnRenamed('Name','Rename')"
   ]
  },
  {
   "cell_type": "code",
   "execution_count": 57,
   "id": "67a413f1",
   "metadata": {},
   "outputs": [
    {
     "name": "stdout",
     "output_type": "stream",
     "text": [
      "+---------+----+----------+\n",
      "|   Rename|CGPA|Experience|\n",
      "+---------+----+----------+\n",
      "|  Koustav|9.03|         2|\n",
      "|  Bishyan|9.16|         1|\n",
      "|Dwaipayan|8.73|         3|\n",
      "|   Mainak|8.98|         4|\n",
      "+---------+----+----------+\n",
      "\n"
     ]
    }
   ],
   "source": [
    "df_pyspark1.show()"
   ]
  },
  {
   "cell_type": "code",
   "execution_count": null,
   "id": "a104526c",
   "metadata": {},
   "outputs": [],
   "source": []
  }
 ],
 "metadata": {
  "kernelspec": {
   "display_name": "Python 3",
   "language": "python",
   "name": "python3"
  },
  "language_info": {
   "codemirror_mode": {
    "name": "ipython",
    "version": 3
   },
   "file_extension": ".py",
   "mimetype": "text/x-python",
   "name": "python",
   "nbconvert_exporter": "python",
   "pygments_lexer": "ipython3",
   "version": "3.8.8"
  }
 },
 "nbformat": 4,
 "nbformat_minor": 5
}

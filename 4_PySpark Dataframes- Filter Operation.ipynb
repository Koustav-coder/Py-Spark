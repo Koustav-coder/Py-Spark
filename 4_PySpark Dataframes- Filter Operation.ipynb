{
 "cells": [
  {
   "cell_type": "markdown",
   "id": "0f378d5e",
   "metadata": {},
   "source": [
    "### PySpark Dataframes\n",
    "- Filter Operation\n",
    "- &,|,==\n",
    "- ~"
   ]
  },
  {
   "cell_type": "code",
   "execution_count": 1,
   "id": "8e6d3c22",
   "metadata": {},
   "outputs": [],
   "source": [
    "from pyspark.sql import SparkSession"
   ]
  },
  {
   "cell_type": "code",
   "execution_count": 2,
   "id": "84a5be9f",
   "metadata": {},
   "outputs": [],
   "source": [
    "spark=SparkSession.builder.appName('PracDF2').getOrCreate()"
   ]
  },
  {
   "cell_type": "code",
   "execution_count": 3,
   "id": "e5d932c9",
   "metadata": {},
   "outputs": [],
   "source": [
    "df_pyspark=spark.read.option('header','true').csv('4_DF .csv',inferSchema=True)"
   ]
  },
  {
   "cell_type": "code",
   "execution_count": 4,
   "id": "54e8a49d",
   "metadata": {},
   "outputs": [
    {
     "name": "stdout",
     "output_type": "stream",
     "text": [
      "+---------+----+----------+------+\n",
      "|     Name|CGPA|Experience|Salary|\n",
      "+---------+----+----------+------+\n",
      "|  Koustav|9.03|         2| 50000|\n",
      "|  Bishyan|9.16|         1| 55000|\n",
      "|Dwaipayan|8.73|         3| 45000|\n",
      "|   Mainak|8.98|         4| 51000|\n",
      "+---------+----+----------+------+\n",
      "\n"
     ]
    }
   ],
   "source": [
    "df_pyspark.show()"
   ]
  },
  {
   "cell_type": "markdown",
   "id": "8166e2e3",
   "metadata": {},
   "source": [
    "### filter operations"
   ]
  },
  {
   "cell_type": "code",
   "execution_count": 5,
   "id": "3e75eb31",
   "metadata": {},
   "outputs": [
    {
     "name": "stdout",
     "output_type": "stream",
     "text": [
      "+---------+----+----------+------+\n",
      "|     Name|CGPA|Experience|Salary|\n",
      "+---------+----+----------+------+\n",
      "|  Koustav|9.03|         2| 50000|\n",
      "|Dwaipayan|8.73|         3| 45000|\n",
      "+---------+----+----------+------+\n",
      "\n"
     ]
    }
   ],
   "source": [
    "### Salary of the people less than or equal to 50000\n",
    "df_pyspark.filter(\"Salary<=50000\").show()"
   ]
  },
  {
   "cell_type": "code",
   "execution_count": 7,
   "id": "3a27eb37",
   "metadata": {},
   "outputs": [
    {
     "name": "stdout",
     "output_type": "stream",
     "text": [
      "+---------+----+\n",
      "|     Name|CGPA|\n",
      "+---------+----+\n",
      "|  Koustav|9.03|\n",
      "|Dwaipayan|8.73|\n",
      "+---------+----+\n",
      "\n"
     ]
    }
   ],
   "source": [
    "df_pyspark.filter(\"Salary<=50000\").select(['Name','CGPA']).show()"
   ]
  },
  {
   "cell_type": "code",
   "execution_count": 8,
   "id": "7743d47d",
   "metadata": {},
   "outputs": [
    {
     "name": "stdout",
     "output_type": "stream",
     "text": [
      "+---------+----+----------+------+\n",
      "|     Name|CGPA|Experience|Salary|\n",
      "+---------+----+----------+------+\n",
      "|  Koustav|9.03|         2| 50000|\n",
      "|Dwaipayan|8.73|         3| 45000|\n",
      "+---------+----+----------+------+\n",
      "\n"
     ]
    }
   ],
   "source": [
    "df_pyspark.filter(df_pyspark['Salary']<=50000).show()"
   ]
  },
  {
   "cell_type": "code",
   "execution_count": 11,
   "id": "de4988ea",
   "metadata": {},
   "outputs": [
    {
     "name": "stdout",
     "output_type": "stream",
     "text": [
      "+-------+----+----------+------+\n",
      "|   Name|CGPA|Experience|Salary|\n",
      "+-------+----+----------+------+\n",
      "|Koustav|9.03|         2| 50000|\n",
      "+-------+----+----------+------+\n",
      "\n"
     ]
    }
   ],
   "source": [
    "df_pyspark.filter((df_pyspark['Salary']<=50000)\n",
    "                  &(df_pyspark['Salary']>=50000)).show()"
   ]
  },
  {
   "cell_type": "code",
   "execution_count": 12,
   "id": "30823e7c",
   "metadata": {},
   "outputs": [
    {
     "name": "stdout",
     "output_type": "stream",
     "text": [
      "+---------+----+----------+------+\n",
      "|     Name|CGPA|Experience|Salary|\n",
      "+---------+----+----------+------+\n",
      "|  Koustav|9.03|         2| 50000|\n",
      "|  Bishyan|9.16|         1| 55000|\n",
      "|Dwaipayan|8.73|         3| 45000|\n",
      "|   Mainak|8.98|         4| 51000|\n",
      "+---------+----+----------+------+\n",
      "\n"
     ]
    }
   ],
   "source": [
    "df_pyspark.filter((df_pyspark['Salary']<=50000)\n",
    "                  |(df_pyspark['Salary']>=50000)).show()"
   ]
  },
  {
   "cell_type": "code",
   "execution_count": 13,
   "id": "102761ab",
   "metadata": {},
   "outputs": [
    {
     "name": "stdout",
     "output_type": "stream",
     "text": [
      "+-------+----+----------+------+\n",
      "|   Name|CGPA|Experience|Salary|\n",
      "+-------+----+----------+------+\n",
      "|Bishyan|9.16|         1| 55000|\n",
      "| Mainak|8.98|         4| 51000|\n",
      "+-------+----+----------+------+\n",
      "\n"
     ]
    }
   ],
   "source": [
    "df_pyspark.filter(~(df_pyspark['Salary']<=50000)).show()"
   ]
  },
  {
   "cell_type": "code",
   "execution_count": null,
   "id": "a7421df9",
   "metadata": {},
   "outputs": [],
   "source": []
  }
 ],
 "metadata": {
  "kernelspec": {
   "display_name": "Python 3",
   "language": "python",
   "name": "python3"
  },
  "language_info": {
   "codemirror_mode": {
    "name": "ipython",
    "version": 3
   },
   "file_extension": ".py",
   "mimetype": "text/x-python",
   "name": "python",
   "nbconvert_exporter": "python",
   "pygments_lexer": "ipython3",
   "version": "3.8.8"
  }
 },
 "nbformat": 4,
 "nbformat_minor": 5
}

{
 "cells": [
  {
   "cell_type": "code",
   "execution_count": 1,
   "id": "bc96e7e7",
   "metadata": {},
   "outputs": [
    {
     "name": "stdout",
     "output_type": "stream",
     "text": [
      "Requirement already satisfied: pyspark in c:\\users\\user\\anaconda3\\lib\\site-packages (3.3.0)\n",
      "Requirement already satisfied: py4j==0.10.9.5 in c:\\users\\user\\anaconda3\\lib\\site-packages (from pyspark) (0.10.9.5)\n",
      "Note: you may need to restart the kernel to use updated packages.\n"
     ]
    }
   ],
   "source": [
    "pip install pyspark"
   ]
  },
  {
   "cell_type": "code",
   "execution_count": 2,
   "id": "9954a47e",
   "metadata": {},
   "outputs": [],
   "source": [
    "import findspark"
   ]
  },
  {
   "cell_type": "code",
   "execution_count": 3,
   "id": "408d47ae",
   "metadata": {},
   "outputs": [
    {
     "data": {
      "text/plain": [
       "'C:\\\\spark-3.3.0-bin-hadoop3'"
      ]
     },
     "execution_count": 3,
     "metadata": {},
     "output_type": "execute_result"
    }
   ],
   "source": [
    "findspark.init()\n",
    "findspark.find()\n",
    "import pyspark\n",
    "findspark.find()"
   ]
  },
  {
   "cell_type": "code",
   "execution_count": 4,
   "id": "fbf55093",
   "metadata": {},
   "outputs": [],
   "source": [
    "\n",
    "from pyspark import SparkConf, SparkContext\n",
    "from pyspark.sql import SparkSession\n",
    "conf = pyspark.SparkConf().setAppName(\"Quiz\").setMaster('local')\n",
    "sc = pyspark.SparkContext.getOrCreate(conf=conf)\n",
    "spark=SparkSession(sc)"
   ]
  },
  {
   "cell_type": "code",
   "execution_count": 5,
   "id": "b5a52187",
   "metadata": {},
   "outputs": [
    {
     "data": {
      "text/plain": [
       "[1, 8, 27, 64]"
      ]
     },
     "execution_count": 5,
     "metadata": {},
     "output_type": "execute_result"
    }
   ],
   "source": [
    "val=sc.parallelize([1,2,3,4])\n",
    "val.map(lambda x:x*x*x).collect()"
   ]
  },
  {
   "cell_type": "code",
   "execution_count": 6,
   "id": "3897a726",
   "metadata": {},
   "outputs": [],
   "source": [
    "rdd=sc.textFile('8_MinMax.csv')"
   ]
  },
  {
   "cell_type": "code",
   "execution_count": 7,
   "id": "d799f8ab",
   "metadata": {},
   "outputs": [
    {
     "data": {
      "text/plain": [
       "['Jan,NY,3',\n",
       " 'Jan,KL,2',\n",
       " 'Feb,LP,3',\n",
       " 'Mar,NY,4',\n",
       " 'Jan,KL,6',\n",
       " 'Jan,NY,1',\n",
       " 'Mar,Lp,2',\n",
       " 'Feb,NY,4']"
      ]
     },
     "execution_count": 7,
     "metadata": {},
     "output_type": "execute_result"
    }
   ],
   "source": [
    "rdd.collect()"
   ]
  },
  {
   "cell_type": "code",
   "execution_count": 8,
   "id": "b6766e96",
   "metadata": {},
   "outputs": [],
   "source": [
    "rdd = rdd.map(lambda x: x.split(','))"
   ]
  },
  {
   "cell_type": "code",
   "execution_count": 9,
   "id": "09ffd1da",
   "metadata": {},
   "outputs": [
    {
     "data": {
      "text/plain": [
       "[['Jan', 'NY', '3'],\n",
       " ['Jan', 'KL', '2'],\n",
       " ['Feb', 'LP', '3'],\n",
       " ['Mar', 'NY', '4'],\n",
       " ['Jan', 'KL', '6'],\n",
       " ['Jan', 'NY', '1'],\n",
       " ['Mar', 'Lp', '2'],\n",
       " ['Feb', 'NY', '4']]"
      ]
     },
     "execution_count": 9,
     "metadata": {},
     "output_type": "execute_result"
    }
   ],
   "source": [
    "rdd.collect()"
   ]
  },
  {
   "cell_type": "code",
   "execution_count": 10,
   "id": "53c97779",
   "metadata": {},
   "outputs": [],
   "source": [
    "rdd = rdd.map(lambda x: (x[1], float(x[2])))"
   ]
  },
  {
   "cell_type": "code",
   "execution_count": 11,
   "id": "b83776aa",
   "metadata": {},
   "outputs": [
    {
     "data": {
      "text/plain": [
       "[('NY', 3.0),\n",
       " ('KL', 2.0),\n",
       " ('LP', 3.0),\n",
       " ('NY', 4.0),\n",
       " ('KL', 6.0),\n",
       " ('NY', 1.0),\n",
       " ('Lp', 2.0),\n",
       " ('NY', 4.0)]"
      ]
     },
     "execution_count": 11,
     "metadata": {},
     "output_type": "execute_result"
    }
   ],
   "source": [
    "rdd.collect()"
   ]
  },
  {
   "cell_type": "code",
   "execution_count": 12,
   "id": "eb37d840",
   "metadata": {},
   "outputs": [
    {
     "data": {
      "text/plain": [
       "[('NY', 4.0), ('KL', 6.0), ('LP', 3.0), ('Lp', 2.0)]"
      ]
     },
     "execution_count": 12,
     "metadata": {},
     "output_type": "execute_result"
    }
   ],
   "source": [
    "#Max\n",
    "rdd.reduceByKey(lambda x,y: x if x > y else y).collect()"
   ]
  },
  {
   "cell_type": "code",
   "execution_count": 13,
   "id": "530beab5",
   "metadata": {},
   "outputs": [
    {
     "data": {
      "text/plain": [
       "[('NY', 1.0), ('KL', 2.0), ('LP', 3.0), ('Lp', 2.0)]"
      ]
     },
     "execution_count": 13,
     "metadata": {},
     "output_type": "execute_result"
    }
   ],
   "source": [
    "#Min\n",
    "rdd.reduceByKey(lambda x,y: x if x < y else y).collect()"
   ]
  },
  {
   "cell_type": "code",
   "execution_count": null,
   "id": "bb1511d2",
   "metadata": {},
   "outputs": [],
   "source": []
  }
 ],
 "metadata": {
  "kernelspec": {
   "display_name": "Python 3",
   "language": "python",
   "name": "python3"
  },
  "language_info": {
   "codemirror_mode": {
    "name": "ipython",
    "version": 3
   },
   "file_extension": ".py",
   "mimetype": "text/x-python",
   "name": "python",
   "nbconvert_exporter": "python",
   "pygments_lexer": "ipython3",
   "version": "3.8.8"
  }
 },
 "nbformat": 4,
 "nbformat_minor": 5
}

{
 "cells": [
  {
   "cell_type": "code",
   "execution_count": 1,
   "id": "8ae7e00b",
   "metadata": {},
   "outputs": [],
   "source": [
    "from pyspark.sql import SparkSession"
   ]
  },
  {
   "cell_type": "code",
   "execution_count": 2,
   "id": "42674f12",
   "metadata": {},
   "outputs": [],
   "source": [
    "spark=SparkSession.builder.appName('PracDF3').getOrCreate()"
   ]
  },
  {
   "cell_type": "code",
   "execution_count": 3,
   "id": "2ba7b233",
   "metadata": {},
   "outputs": [],
   "source": [
    "df_pyspark=spark.read.option('header','true').csv('5_DF.csv',inferSchema=True)"
   ]
  },
  {
   "cell_type": "code",
   "execution_count": 4,
   "id": "830295cf",
   "metadata": {},
   "outputs": [
    {
     "name": "stdout",
     "output_type": "stream",
     "text": [
      "+---------+-----------+------+\n",
      "|     Name|       Dept|Salary|\n",
      "+---------+-----------+------+\n",
      "|  Koustav|       Data| 50000|\n",
      "|  Bishyan|         IT| 55000|\n",
      "|Dwaipayan|         ML| 45000|\n",
      "|   Mainak|  Front End| 51000|\n",
      "|   Sattik|   Back End| 40000|\n",
      "|  Koustav|       Java| 48000|\n",
      "|   Mainak| Full Stack| 60000|\n",
      "|   Anisha| ServiceNow| 40000|\n",
      "|   Anisha| Full Stack| 56000|\n",
      "|  Bhargav|       Data| 52000|\n",
      "|   Mukund|       Java| 50000|\n",
      "|    Ahana|Informatica| 35000|\n",
      "|   Chirag|         ML| 70000|\n",
      "+---------+-----------+------+\n",
      "\n"
     ]
    }
   ],
   "source": [
    "df_pyspark.show()"
   ]
  },
  {
   "cell_type": "code",
   "execution_count": 5,
   "id": "1723a3d4",
   "metadata": {},
   "outputs": [
    {
     "name": "stdout",
     "output_type": "stream",
     "text": [
      "root\n",
      " |-- Name: string (nullable = true)\n",
      " |-- Dept: string (nullable = true)\n",
      " |-- Salary: integer (nullable = true)\n",
      "\n"
     ]
    }
   ],
   "source": [
    "df_pyspark.printSchema()"
   ]
  },
  {
   "cell_type": "code",
   "execution_count": 6,
   "id": "71256315",
   "metadata": {},
   "outputs": [
    {
     "name": "stdout",
     "output_type": "stream",
     "text": [
      "+---------+-----------+\n",
      "|     Name|sum(Salary)|\n",
      "+---------+-----------+\n",
      "|   Sattik|      40000|\n",
      "|    Ahana|      35000|\n",
      "|   Anisha|      96000|\n",
      "|  Bishyan|      55000|\n",
      "|  Bhargav|      52000|\n",
      "|Dwaipayan|      45000|\n",
      "|   Chirag|      70000|\n",
      "|   Mukund|      50000|\n",
      "|   Mainak|     111000|\n",
      "|  Koustav|      98000|\n",
      "+---------+-----------+\n",
      "\n"
     ]
    }
   ],
   "source": [
    "## Groupby\n",
    "df_pyspark.groupBy('Name').sum().show()"
   ]
  },
  {
   "cell_type": "code",
   "execution_count": 7,
   "id": "be9fe59a",
   "metadata": {},
   "outputs": [
    {
     "name": "stdout",
     "output_type": "stream",
     "text": [
      "+-----------+-----------+\n",
      "|       Dept|sum(Salary)|\n",
      "+-----------+-----------+\n",
      "|       Data|     102000|\n",
      "|  Front End|      51000|\n",
      "|Informatica|      35000|\n",
      "| Full Stack|     116000|\n",
      "|   Back End|      40000|\n",
      "|         IT|      55000|\n",
      "|         ML|     115000|\n",
      "| ServiceNow|      40000|\n",
      "|       Java|      98000|\n",
      "+-----------+-----------+\n",
      "\n"
     ]
    }
   ],
   "source": [
    "df_pyspark.groupBy('Dept').sum().show()"
   ]
  },
  {
   "cell_type": "code",
   "execution_count": 8,
   "id": "e55e5f20",
   "metadata": {},
   "outputs": [
    {
     "name": "stdout",
     "output_type": "stream",
     "text": [
      "+-----------+-----------+\n",
      "|       Dept|avg(Salary)|\n",
      "+-----------+-----------+\n",
      "|       Data|    51000.0|\n",
      "|  Front End|    51000.0|\n",
      "|Informatica|    35000.0|\n",
      "| Full Stack|    58000.0|\n",
      "|   Back End|    40000.0|\n",
      "|         IT|    55000.0|\n",
      "|         ML|    57500.0|\n",
      "| ServiceNow|    40000.0|\n",
      "|       Java|    49000.0|\n",
      "+-----------+-----------+\n",
      "\n"
     ]
    }
   ],
   "source": [
    "df_pyspark.groupBy('Dept').mean().show()"
   ]
  },
  {
   "cell_type": "code",
   "execution_count": 9,
   "id": "19d0ade7",
   "metadata": {},
   "outputs": [
    {
     "name": "stdout",
     "output_type": "stream",
     "text": [
      "+-----------+-----+\n",
      "|       Dept|count|\n",
      "+-----------+-----+\n",
      "|       Data|    2|\n",
      "|  Front End|    1|\n",
      "|Informatica|    1|\n",
      "| Full Stack|    2|\n",
      "|   Back End|    1|\n",
      "|         IT|    1|\n",
      "|         ML|    2|\n",
      "| ServiceNow|    1|\n",
      "|       Java|    2|\n",
      "+-----------+-----+\n",
      "\n"
     ]
    }
   ],
   "source": [
    "df_pyspark.groupBy('Dept').count().show()"
   ]
  },
  {
   "cell_type": "code",
   "execution_count": 10,
   "id": "25e496c5",
   "metadata": {},
   "outputs": [
    {
     "name": "stdout",
     "output_type": "stream",
     "text": [
      "+-----------+\n",
      "|sum(Salary)|\n",
      "+-----------+\n",
      "|     652000|\n",
      "+-----------+\n",
      "\n"
     ]
    }
   ],
   "source": [
    "df_pyspark.agg({'Salary':'Sum'}).show()"
   ]
  },
  {
   "cell_type": "code",
   "execution_count": 11,
   "id": "3e11bde9",
   "metadata": {},
   "outputs": [
    {
     "name": "stdout",
     "output_type": "stream",
     "text": [
      "+---------+-----------+\n",
      "|     Name|max(Salary)|\n",
      "+---------+-----------+\n",
      "|   Sattik|      40000|\n",
      "|    Ahana|      35000|\n",
      "|   Anisha|      56000|\n",
      "|  Bishyan|      55000|\n",
      "|  Bhargav|      52000|\n",
      "|Dwaipayan|      45000|\n",
      "|   Chirag|      70000|\n",
      "|   Mukund|      50000|\n",
      "|   Mainak|      60000|\n",
      "|  Koustav|      50000|\n",
      "+---------+-----------+\n",
      "\n"
     ]
    }
   ],
   "source": [
    "df_pyspark.groupBy('Name').max().show()"
   ]
  },
  {
   "cell_type": "code",
   "execution_count": 12,
   "id": "ed8a8291",
   "metadata": {},
   "outputs": [
    {
     "name": "stdout",
     "output_type": "stream",
     "text": [
      "+---------+-----------+\n",
      "|     Name|min(Salary)|\n",
      "+---------+-----------+\n",
      "|   Sattik|      40000|\n",
      "|    Ahana|      35000|\n",
      "|   Anisha|      40000|\n",
      "|  Bishyan|      55000|\n",
      "|  Bhargav|      52000|\n",
      "|Dwaipayan|      45000|\n",
      "|   Chirag|      70000|\n",
      "|   Mukund|      50000|\n",
      "|   Mainak|      51000|\n",
      "|  Koustav|      48000|\n",
      "+---------+-----------+\n",
      "\n"
     ]
    }
   ],
   "source": [
    "df_pyspark.groupBy('Name').min().show()"
   ]
  },
  {
   "cell_type": "code",
   "execution_count": 13,
   "id": "1d960f72",
   "metadata": {},
   "outputs": [
    {
     "name": "stdout",
     "output_type": "stream",
     "text": [
      "+---------+-----------+\n",
      "|     Name|avg(Salary)|\n",
      "+---------+-----------+\n",
      "|   Sattik|    40000.0|\n",
      "|    Ahana|    35000.0|\n",
      "|   Anisha|    48000.0|\n",
      "|  Bishyan|    55000.0|\n",
      "|  Bhargav|    52000.0|\n",
      "|Dwaipayan|    45000.0|\n",
      "|   Chirag|    70000.0|\n",
      "|   Mukund|    50000.0|\n",
      "|   Mainak|    55500.0|\n",
      "|  Koustav|    49000.0|\n",
      "+---------+-----------+\n",
      "\n"
     ]
    }
   ],
   "source": [
    "df_pyspark.groupBy('Name').avg().show()"
   ]
  },
  {
   "cell_type": "code",
   "execution_count": null,
   "id": "7dd5db24",
   "metadata": {},
   "outputs": [],
   "source": []
  }
 ],
 "metadata": {
  "kernelspec": {
   "display_name": "Python 3",
   "language": "python",
   "name": "python3"
  },
  "language_info": {
   "codemirror_mode": {
    "name": "ipython",
    "version": 3
   },
   "file_extension": ".py",
   "mimetype": "text/x-python",
   "name": "python",
   "nbconvert_exporter": "python",
   "pygments_lexer": "ipython3",
   "version": "3.8.8"
  }
 },
 "nbformat": 4,
 "nbformat_minor": 5
}
